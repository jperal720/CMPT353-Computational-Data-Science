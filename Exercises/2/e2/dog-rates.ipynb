{
 "cells": [
  {
   "cell_type": "code",
   "execution_count": 1,
   "id": "0d4c1063-378b-483f-bd61-f5f3f2c15dc9",
   "metadata": {},
   "outputs": [],
   "source": [
    "import pandas as pd\n",
    "import numpy as np\n",
    "from matplotlib import pyplot as plt\n",
    "from datetime import datetime"
   ]
  },
  {
   "cell_type": "code",
   "execution_count": 2,
   "id": "52126e42-fcc8-4adb-b7e2-e613f6cef61c",
   "metadata": {},
   "outputs": [],
   "source": [
    "data = pd.read_csv('dog_rates_tweets.csv', sep=' ', header=None, names=['id', 'date', 'comment'], parse_dates=True)"
   ]
  },
  {
   "cell_type": "code",
   "execution_count": 3,
   "id": "c2281b25-7d62-4f23-a1d0-44bef0d467a7",
   "metadata": {},
   "outputs": [
    {
     "data": {
      "text/html": [
       "<div>\n",
       "<style scoped>\n",
       "    .dataframe tbody tr th:only-of-type {\n",
       "        vertical-align: middle;\n",
       "    }\n",
       "\n",
       "    .dataframe tbody tr th {\n",
       "        vertical-align: top;\n",
       "    }\n",
       "\n",
       "    .dataframe thead th {\n",
       "        text-align: right;\n",
       "    }\n",
       "</style>\n",
       "<table border=\"1\" class=\"dataframe\">\n",
       "  <thead>\n",
       "    <tr style=\"text-align: right;\">\n",
       "      <th></th>\n",
       "      <th>id</th>\n",
       "      <th>date</th>\n",
       "      <th>comment</th>\n",
       "    </tr>\n",
       "  </thead>\n",
       "  <tbody>\n",
       "    <tr>\n",
       "      <th>0</th>\n",
       "      <td>id,created_at,text</td>\n",
       "      <td>NaN</td>\n",
       "      <td>NaN</td>\n",
       "    </tr>\n",
       "    <tr>\n",
       "      <th>1</th>\n",
       "      <td>994677639364403200,2018-05-10</td>\n",
       "      <td>20:36:44,@Steff88979267</td>\n",
       "      <td>tell</td>\n",
       "    </tr>\n",
       "    <tr>\n",
       "      <th>2</th>\n",
       "      <td>994364904978239488,2018-05-09</td>\n",
       "      <td>23:54:02,@NFLOwnerGBP</td>\n",
       "      <td>take</td>\n",
       "    </tr>\n",
       "    <tr>\n",
       "      <th>3</th>\n",
       "      <td>994363623421153280,2018-05-09</td>\n",
       "      <td>23:48:56,\"This</td>\n",
       "      <td>is</td>\n",
       "    </tr>\n",
       "    <tr>\n",
       "      <th>4</th>\n",
       "      <td>994336722875047936,2018-05-09</td>\n",
       "      <td>22:02:03,@rachaellanaghan</td>\n",
       "      <td>❤️</td>\n",
       "    </tr>\n",
       "    <tr>\n",
       "      <th>...</th>\n",
       "      <td>...</td>\n",
       "      <td>...</td>\n",
       "      <td>...</td>\n",
       "    </tr>\n",
       "    <tr>\n",
       "      <th>9496</th>\n",
       "      <td>1027980978910687233,2018-08-10</td>\n",
       "      <td>18:12:18,@GregWWoods</td>\n",
       "      <td>thanks</td>\n",
       "    </tr>\n",
       "    <tr>\n",
       "      <th>9497</th>\n",
       "      <td>1027976875811819520,2018-08-10</td>\n",
       "      <td>17:56:00,@DiannaC</td>\n",
       "      <td>thanks</td>\n",
       "    </tr>\n",
       "    <tr>\n",
       "      <th>9498</th>\n",
       "      <td>1027970381766963202,2018-08-10</td>\n",
       "      <td>17:30:12,@runnjen</td>\n",
       "      <td>@livelikeroo</td>\n",
       "    </tr>\n",
       "    <tr>\n",
       "      <th>9499</th>\n",
       "      <td>1027967697684815873,2018-08-10</td>\n",
       "      <td>17:19:32,@shelbymorganart</td>\n",
       "      <td>thanks</td>\n",
       "    </tr>\n",
       "    <tr>\n",
       "      <th>9500</th>\n",
       "      <td>1027963039029452800,2018-08-10</td>\n",
       "      <td>17:01:01,@xo_taylernicole</td>\n",
       "      <td>thanks</td>\n",
       "    </tr>\n",
       "  </tbody>\n",
       "</table>\n",
       "<p>9501 rows × 3 columns</p>\n",
       "</div>"
      ],
      "text/plain": [
       "                                  id                       date       comment\n",
       "0                 id,created_at,text                        NaN           NaN\n",
       "1      994677639364403200,2018-05-10    20:36:44,@Steff88979267          tell\n",
       "2      994364904978239488,2018-05-09      23:54:02,@NFLOwnerGBP          take\n",
       "3      994363623421153280,2018-05-09             23:48:56,\"This            is\n",
       "4      994336722875047936,2018-05-09  22:02:03,@rachaellanaghan            ❤️\n",
       "...                              ...                        ...           ...\n",
       "9496  1027980978910687233,2018-08-10       18:12:18,@GregWWoods        thanks\n",
       "9497  1027976875811819520,2018-08-10          17:56:00,@DiannaC        thanks\n",
       "9498  1027970381766963202,2018-08-10          17:30:12,@runnjen  @livelikeroo\n",
       "9499  1027967697684815873,2018-08-10  17:19:32,@shelbymorganart        thanks\n",
       "9500  1027963039029452800,2018-08-10  17:01:01,@xo_taylernicole        thanks\n",
       "\n",
       "[9501 rows x 3 columns]"
      ]
     },
     "execution_count": 3,
     "metadata": {},
     "output_type": "execute_result"
    }
   ],
   "source": [
    "data"
   ]
  },
  {
   "cell_type": "code",
   "execution_count": 4,
   "id": "2deb9567-27ea-495e-b552-9f2af7282530",
   "metadata": {},
   "outputs": [],
   "source": [
    "data['comment'] = data['comment'].astype(str)"
   ]
  },
  {
   "cell_type": "code",
   "execution_count": 5,
   "id": "4e5c8eac-6a2c-465e-b10e-3f428eae115a",
   "metadata": {},
   "outputs": [],
   "source": [
    "pd.set_option('display.max_rows', data.shape[0]+1)"
   ]
  },
  {
   "cell_type": "code",
   "execution_count": 6,
   "id": "c53e2ee1-3eaf-49ff-a94e-70c507d2e465",
   "metadata": {},
   "outputs": [],
   "source": [
    "data['date'] = data['date'].astype('string')"
   ]
  },
  {
   "cell_type": "code",
   "execution_count": 7,
   "id": "9059a165-daa1-45f9-af4b-788248f70b14",
   "metadata": {},
   "outputs": [],
   "source": [
    "data['date'] = pd.Series.to_string(data['date'])"
   ]
  },
  {
   "cell_type": "code",
   "execution_count": 8,
   "id": "5a2f9b6b-13a9-418b-a401-786d9282e688",
   "metadata": {},
   "outputs": [],
   "source": [
    "data = data.dropna(axis=0, subset=['comment'])"
   ]
  },
  {
   "cell_type": "code",
   "execution_count": 9,
   "id": "a7c1735f-dbe0-46f2-aaab-72a756d9cc90",
   "metadata": {},
   "outputs": [],
   "source": [
    "data = data.drop_duplicates(subset=['comment'], keep='first') #Gets rid of duplicate comments"
   ]
  },
  {
   "cell_type": "code",
   "execution_count": 10,
   "id": "55deea46-98f4-41d0-9c88-557a5d3c0c0a",
   "metadata": {},
   "outputs": [],
   "source": [
    "import re\n",
    "pattern = '\\d+/10'"
   ]
  },
  {
   "cell_type": "code",
   "execution_count": 11,
   "id": "07bd6293-9904-4e66-9245-d61edc54d7cb",
   "metadata": {},
   "outputs": [],
   "source": [
    "def string_replace(row):\n",
    "    m = re.findall(pattern, row)\n",
    "    \n",
    "    if m:\n",
    "        return row\n",
    "    else:\n",
    "        return \"None\""
   ]
  },
  {
   "cell_type": "code",
   "execution_count": 12,
   "id": "8b341d24-245f-4edf-abb3-9191a3f574e5",
   "metadata": {},
   "outputs": [],
   "source": [
    "data['comment'] = data['comment'].apply(lambda x: string_replace(x))"
   ]
  },
  {
   "cell_type": "code",
   "execution_count": 13,
   "id": "55fe800c-c148-4b10-9d22-6f437c66dfb9",
   "metadata": {},
   "outputs": [],
   "source": [
    "data.drop(data[data['comment'] == 'None'].index, inplace=True)"
   ]
  },
  {
   "cell_type": "code",
   "execution_count": 14,
   "id": "1fcdb01f-63bd-4193-9080-36aca47d0825",
   "metadata": {},
   "outputs": [
    {
     "data": {
      "text/plain": [
       "(10, 3)"
      ]
     },
     "execution_count": 14,
     "metadata": {},
     "output_type": "execute_result"
    }
   ],
   "source": [
    "data.shape"
   ]
  },
  {
   "cell_type": "code",
   "execution_count": 15,
   "id": "e09fb859-f7ab-4892-8a01-0e57bc500feb",
   "metadata": {},
   "outputs": [
    {
     "data": {
      "text/html": [
       "<div>\n",
       "<style scoped>\n",
       "    .dataframe tbody tr th:only-of-type {\n",
       "        vertical-align: middle;\n",
       "    }\n",
       "\n",
       "    .dataframe tbody tr th {\n",
       "        vertical-align: top;\n",
       "    }\n",
       "\n",
       "    .dataframe thead th {\n",
       "        text-align: right;\n",
       "    }\n",
       "</style>\n",
       "<table border=\"1\" class=\"dataframe\">\n",
       "  <thead>\n",
       "    <tr style=\"text-align: right;\">\n",
       "      <th></th>\n",
       "      <th>id</th>\n",
       "      <th>date</th>\n",
       "      <th>comment</th>\n",
       "    </tr>\n",
       "  </thead>\n",
       "  <tbody>\n",
       "    <tr>\n",
       "      <th>190</th>\n",
       "      <td>976201779556864004,2018-03-20</td>\n",
       "      <td>0                                             ...</td>\n",
       "      <td>12/10</td>\n",
       "    </tr>\n",
       "    <tr>\n",
       "      <th>1447</th>\n",
       "      <td>Good</td>\n",
       "      <td>0                                             ...</td>\n",
       "      <td>420/10</td>\n",
       "    </tr>\n",
       "    <tr>\n",
       "      <th>2317</th>\n",
       "      <td>879674319642796034,2017-06-27</td>\n",
       "      <td>0                                             ...</td>\n",
       "      <td>14/10</td>\n",
       "    </tr>\n",
       "    <tr>\n",
       "      <th>3380</th>\n",
       "      <td>840698636975636481,2017-03-11</td>\n",
       "      <td>0                                             ...</td>\n",
       "      <td>&amp;gt;10/10</td>\n",
       "    </tr>\n",
       "    <tr>\n",
       "      <th>3507</th>\n",
       "      <td>838150277551247360,2017-03-04</td>\n",
       "      <td>0                                             ...</td>\n",
       "      <td>182/10</td>\n",
       "    </tr>\n",
       "    <tr>\n",
       "      <th>4029</th>\n",
       "      <td>823333489516937216,2017-01-23</td>\n",
       "      <td>0                                             ...</td>\n",
       "      <td>13/10</td>\n",
       "    </tr>\n",
       "    <tr>\n",
       "      <th>4826</th>\n",
       "      <td>785515384317313025,2016-10-10</td>\n",
       "      <td>0                                             ...</td>\n",
       "      <td>10/10,</td>\n",
       "    </tr>\n",
       "    <tr>\n",
       "      <th>5223</th>\n",
       "      <td>761672994376806400,2016-08-05</td>\n",
       "      <td>0                                             ...</td>\n",
       "      <td>10/10</td>\n",
       "    </tr>\n",
       "    <tr>\n",
       "      <th>5769</th>\n",
       "      <td>(pupgraded</td>\n",
       "      <td>0                                             ...</td>\n",
       "      <td>12/10)</td>\n",
       "    </tr>\n",
       "    <tr>\n",
       "      <th>7203</th>\n",
       "      <td>1096203765189726208,2019-02-15</td>\n",
       "      <td>0                                             ...</td>\n",
       "      <td>15/10</td>\n",
       "    </tr>\n",
       "  </tbody>\n",
       "</table>\n",
       "</div>"
      ],
      "text/plain": [
       "                                  id  \\\n",
       "190    976201779556864004,2018-03-20   \n",
       "1447                            Good   \n",
       "2317   879674319642796034,2017-06-27   \n",
       "3380   840698636975636481,2017-03-11   \n",
       "3507   838150277551247360,2017-03-04   \n",
       "4029   823333489516937216,2017-01-23   \n",
       "4826   785515384317313025,2016-10-10   \n",
       "5223   761672994376806400,2016-08-05   \n",
       "5769                      (pupgraded   \n",
       "7203  1096203765189726208,2019-02-15   \n",
       "\n",
       "                                                   date    comment  \n",
       "190   0                                             ...      12/10  \n",
       "1447  0                                             ...     420/10  \n",
       "2317  0                                             ...      14/10  \n",
       "3380  0                                             ...  &gt;10/10  \n",
       "3507  0                                             ...     182/10  \n",
       "4029  0                                             ...      13/10  \n",
       "4826  0                                             ...     10/10,  \n",
       "5223  0                                             ...      10/10  \n",
       "5769  0                                             ...     12/10)  \n",
       "7203  0                                             ...      15/10  "
      ]
     },
     "execution_count": 15,
     "metadata": {},
     "output_type": "execute_result"
    }
   ],
   "source": [
    "data"
   ]
  },
  {
   "cell_type": "code",
   "execution_count": null,
   "id": "5422c42d-f079-4320-b3dd-1e12eabfa2b9",
   "metadata": {},
   "outputs": [],
   "source": []
  }
 ],
 "metadata": {
  "kernelspec": {
   "display_name": "Python 3 (ipykernel)",
   "language": "python",
   "name": "python3"
  },
  "language_info": {
   "codemirror_mode": {
    "name": "ipython",
    "version": 3
   },
   "file_extension": ".py",
   "mimetype": "text/x-python",
   "name": "python",
   "nbconvert_exporter": "python",
   "pygments_lexer": "ipython3",
   "version": "3.9.7"
  }
 },
 "nbformat": 4,
 "nbformat_minor": 5
}
