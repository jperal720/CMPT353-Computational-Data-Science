{
 "cells": [
  {
   "cell_type": "code",
   "execution_count": 1,
   "id": "ba77c201-8daa-4242-ad86-3205c8165981",
   "metadata": {},
   "outputs": [],
   "source": [
    "import numpy as np\n",
    "import math as m"
   ]
  },
  {
   "cell_type": "code",
   "execution_count": 21,
   "id": "657a8a5c-a60e-49fa-87ae-9e4b499a2014",
   "metadata": {},
   "outputs": [],
   "source": [
    "data = np.load('/Users/jonathanperalgort/Documents/CMPT353-Computational-Data-Science/Exercises/1/e1/monthdata.npz') #loading the monthdata.npz file"
   ]
  },
  {
   "cell_type": "code",
   "execution_count": 3,
   "id": "4f26094a-d47a-4f43-a791-e6621b5b3aae",
   "metadata": {},
   "outputs": [],
   "source": [
    "totals = data['totals']"
   ]
  },
  {
   "cell_type": "code",
   "execution_count": 4,
   "id": "4ae09835-4d65-4afa-ba64-070af1a35de0",
   "metadata": {},
   "outputs": [],
   "source": [
    "counts = data['counts']"
   ]
  },
  {
   "cell_type": "code",
   "execution_count": 5,
   "id": "bb2da374-af9b-4cb2-8d4e-8a7122018bf2",
   "metadata": {},
   "outputs": [
    {
     "data": {
      "text/plain": [
       "array([[1809, 1482, 2159,  374,  606,  428,  442,   68,  956, 1429, 1349,\n",
       "        1846],\n",
       "       [ 121,   22,   46,   40,  683,  616, 2061,  834,  253,  276,   27,\n",
       "         224],\n",
       "       [ 896, 1232,  992, 1106, 1236, 1015, 1264, 1096, 1026, 2422, 1184,\n",
       "        1099],\n",
       "       [1491, 1473, 1452, 1595, 1001,  725,  734,  445,  845, 2185, 1305,\n",
       "        1835],\n",
       "       [ 930,  561,  533,  204,  546,  748,  662,  274,  785, 1620, 1293,\n",
       "         295],\n",
       "       [ 183,  982,  621,  471,  667,  671,  525, 1599,  433, 1176,  594,\n",
       "         627],\n",
       "       [ 363,  491,  729,  681,  346,  269,  399,  667,  663,  452,  497,\n",
       "         821],\n",
       "       [1682, 1304, 1616,  242,  516,  582,  328,  138,  784, 2034, 2402,\n",
       "        1520],\n",
       "       [ 220,   90,   28,  120,   98,  306,  154,  280,  488,  158,  176,\n",
       "         116]])"
      ]
     },
     "execution_count": 5,
     "metadata": {},
     "output_type": "execute_result"
    }
   ],
   "source": [
    "totals"
   ]
  },
  {
   "cell_type": "code",
   "execution_count": 6,
   "id": "66002ba9-f65b-4068-b69c-1d2e75c94c66",
   "metadata": {},
   "outputs": [
    {
     "data": {
      "text/plain": [
       "array([[30, 22, 30, 30, 21, 21, 20, 25, 20, 19, 17, 16],\n",
       "       [31, 29, 31, 30, 31, 30, 31, 30, 30, 30, 30, 30],\n",
       "       [31, 29, 31, 30, 30, 30, 31, 31, 30, 31, 30, 31],\n",
       "       [31, 29, 31, 30, 31, 30, 31, 31, 29, 30, 30, 31],\n",
       "       [31, 29, 31, 29, 31, 29, 30, 31, 30, 31, 30, 29],\n",
       "       [31, 29, 31, 30, 31, 30, 28, 31, 30, 30, 29, 31],\n",
       "       [31, 28, 31, 30, 31, 30, 31, 31, 30, 31, 29, 31],\n",
       "       [30, 28, 31, 30, 30, 29, 30, 31, 30, 31, 30, 30],\n",
       "       [31, 28, 31, 30, 31, 30, 31, 31, 30, 30, 30, 30]])"
      ]
     },
     "execution_count": 6,
     "metadata": {},
     "output_type": "execute_result"
    }
   ],
   "source": [
    "counts"
   ]
  },
  {
   "cell_type": "code",
   "execution_count": 7,
   "id": "5f1a9b48-7480-498a-9beb-cc90f7e58100",
   "metadata": {},
   "outputs": [],
   "source": [
    "#m.floor(np.argmin(totals, axis=None) / 12)"
   ]
  },
  {
   "cell_type": "code",
   "execution_count": 8,
   "id": "8f80dab6-8360-433a-9087-5677b82e2486",
   "metadata": {},
   "outputs": [],
   "source": [
    "sum_of_precipitations_per_location = np.sum(totals, axis=1) "
   ]
  },
  {
   "cell_type": "code",
   "execution_count": 9,
   "id": "47495f94-7423-467f-9e34-cd0fed67c993",
   "metadata": {},
   "outputs": [
    {
     "data": {
      "text/plain": [
       "array([12948,  5203, 14568, 15086,  8451,  8549,  6378, 13148,  2234])"
      ]
     },
     "execution_count": 9,
     "metadata": {},
     "output_type": "execute_result"
    }
   ],
   "source": [
    "sum_of_precipitations_per_location #sum of monthly precipitations per location"
   ]
  },
  {
   "cell_type": "code",
   "execution_count": 10,
   "id": "ddd127d5-d99e-427f-919c-1a75a4a1bacb",
   "metadata": {},
   "outputs": [
    {
     "data": {
      "text/plain": [
       "8"
      ]
     },
     "execution_count": 10,
     "metadata": {},
     "output_type": "execute_result"
    }
   ],
   "source": [
    "np.argmin(sum_of_precipitations_per_location) #Displays the location with the least precipitation throughout the year"
   ]
  },
  {
   "cell_type": "code",
   "execution_count": 11,
   "id": "1ee3494b-bb97-499f-9e68-d3d518384298",
   "metadata": {},
   "outputs": [
    {
     "data": {
      "text/plain": [
       "array([[ 60.3       ,  67.36363636,  71.96666667,  12.46666667,\n",
       "         28.85714286,  20.38095238,  22.1       ,   2.72      ,\n",
       "         47.8       ,  75.21052632,  79.35294118, 115.375     ],\n",
       "       [  3.90322581,   0.75862069,   1.48387097,   1.33333333,\n",
       "         22.03225806,  20.53333333,  66.48387097,  27.8       ,\n",
       "          8.43333333,   9.2       ,   0.9       ,   7.46666667],\n",
       "       [ 28.90322581,  42.48275862,  32.        ,  36.86666667,\n",
       "         41.2       ,  33.83333333,  40.77419355,  35.35483871,\n",
       "         34.2       ,  78.12903226,  39.46666667,  35.4516129 ],\n",
       "       [ 48.09677419,  50.79310345,  46.83870968,  53.16666667,\n",
       "         32.29032258,  24.16666667,  23.67741935,  14.35483871,\n",
       "         29.13793103,  72.83333333,  43.5       ,  59.19354839],\n",
       "       [ 30.        ,  19.34482759,  17.19354839,   7.03448276,\n",
       "         17.61290323,  25.79310345,  22.06666667,   8.83870968,\n",
       "         26.16666667,  52.25806452,  43.1       ,  10.17241379],\n",
       "       [  5.90322581,  33.86206897,  20.03225806,  15.7       ,\n",
       "         21.51612903,  22.36666667,  18.75      ,  51.58064516,\n",
       "         14.43333333,  39.2       ,  20.48275862,  20.22580645],\n",
       "       [ 11.70967742,  17.53571429,  23.51612903,  22.7       ,\n",
       "         11.16129032,   8.96666667,  12.87096774,  21.51612903,\n",
       "         22.1       ,  14.58064516,  17.13793103,  26.48387097],\n",
       "       [ 56.06666667,  46.57142857,  52.12903226,   8.06666667,\n",
       "         17.2       ,  20.06896552,  10.93333333,   4.4516129 ,\n",
       "         26.13333333,  65.61290323,  80.06666667,  50.66666667],\n",
       "       [  7.09677419,   3.21428571,   0.90322581,   4.        ,\n",
       "          3.16129032,  10.2       ,   4.96774194,   9.03225806,\n",
       "         16.26666667,   5.26666667,   5.86666667,   3.86666667]])"
      ]
     },
     "execution_count": 11,
     "metadata": {},
     "output_type": "execute_result"
    }
   ],
   "source": [
    "totals/counts"
   ]
  },
  {
   "cell_type": "code",
   "execution_count": 12,
   "id": "7567552f-b145-4c5c-a56c-902733ceb218",
   "metadata": {},
   "outputs": [],
   "source": [
    "sum_of_monthly_precipitations = np.sum(totals, axis=1) #sum of total monthly precipitations"
   ]
  },
  {
   "cell_type": "code",
   "execution_count": 13,
   "id": "2ca69690-2760-47d2-8333-3505bb137ab6",
   "metadata": {},
   "outputs": [
    {
     "data": {
      "text/plain": [
       "array([12948,  5203, 14568, 15086,  8451,  8549,  6378, 13148,  2234])"
      ]
     },
     "execution_count": 13,
     "metadata": {},
     "output_type": "execute_result"
    }
   ],
   "source": [
    "sum_of_monthly_precipitations"
   ]
  },
  {
   "cell_type": "code",
   "execution_count": 14,
   "id": "9a6f33b8-d981-4007-95e6-fc272f24c8ea",
   "metadata": {},
   "outputs": [
    {
     "data": {
      "text/plain": [
       "array([271, 363, 365, 364, 361, 361, 364, 360, 363])"
      ]
     },
     "execution_count": 14,
     "metadata": {},
     "output_type": "execute_result"
    }
   ],
   "source": [
    "sum_of_counts = np.sum(counts, axis=1) #sum of counts\n",
    "sum_of_counts"
   ]
  },
  {
   "cell_type": "code",
   "execution_count": 15,
   "id": "c622cfab-dbe3-4c86-ab8d-ade57fbe13b0",
   "metadata": {},
   "outputs": [
    {
     "data": {
      "text/plain": [
       "array([47.77859779, 14.33333333, 39.91232877, 41.44505495, 23.4099723 ,\n",
       "       23.68144044, 17.52197802, 36.52222222,  6.15426997])"
      ]
     },
     "execution_count": 15,
     "metadata": {},
     "output_type": "execute_result"
    }
   ],
   "source": [
    "sum_of_monthly_precipitations / sum_of_counts #Divided by twelve to figure out the average precipitation in a city per year"
   ]
  },
  {
   "cell_type": "code",
   "execution_count": 16,
   "id": "212cfc39-0fb6-4fb6-b5c4-11bde3d4c53d",
   "metadata": {},
   "outputs": [
    {
     "data": {
      "text/plain": [
       "(9, 12)"
      ]
     },
     "execution_count": 16,
     "metadata": {},
     "output_type": "execute_result"
    }
   ],
   "source": [
    "totals.shape"
   ]
  },
  {
   "cell_type": "code",
   "execution_count": 17,
   "id": "e4c2f046-6f08-4aab-8a19-d82c59c2cb1c",
   "metadata": {},
   "outputs": [],
   "source": [
    "#new_totals will contain the reshaped totals array with the precipitations of the corresponding quarter\n",
    "new_totals = totals"
   ]
  },
  {
   "cell_type": "code",
   "execution_count": 18,
   "id": "cb70f14c-f3a5-491d-8806-abb80ae6d54b",
   "metadata": {},
   "outputs": [],
   "source": [
    "new_totals = np.reshape(new_totals, (9,4,3))"
   ]
  },
  {
   "cell_type": "code",
   "execution_count": 19,
   "id": "80446cf6-6589-4272-9325-e3fcb853ff89",
   "metadata": {},
   "outputs": [],
   "source": [
    "sum_of_quarters = np.sum(new_totals, axis=2) #contains the sum of all the quarters in the year for all 9 locations"
   ]
  },
  {
   "cell_type": "code",
   "execution_count": 20,
   "id": "0f3838b4-6b22-45d5-8569-69f92984f470",
   "metadata": {},
   "outputs": [
    {
     "data": {
      "text/plain": [
       "array([[1816.66666667,  469.33333333,  488.66666667, 1541.33333333],\n",
       "       [  63.        ,  446.33333333, 1049.33333333,  175.66666667],\n",
       "       [1040.        , 1119.        , 1128.66666667, 1568.33333333],\n",
       "       [1472.        , 1107.        ,  674.66666667, 1775.        ],\n",
       "       [ 674.66666667,  499.33333333,  573.66666667, 1069.33333333],\n",
       "       [ 595.33333333,  603.        ,  852.33333333,  799.        ],\n",
       "       [ 527.66666667,  432.        ,  576.33333333,  590.        ],\n",
       "       [1534.        ,  446.66666667,  416.66666667, 1985.33333333],\n",
       "       [ 112.66666667,  174.66666667,  307.33333333,  150.        ]])"
      ]
     },
     "execution_count": 20,
     "metadata": {},
     "output_type": "execute_result"
    }
   ],
   "source": [
    "sum_of_quarters/3 #displays the average of precipitations per quarter for each of the 9 locations"
   ]
  }
 ],
 "metadata": {
  "kernelspec": {
   "display_name": "Python 3 (ipykernel)",
   "language": "python",
   "name": "python3"
  },
  "language_info": {
   "codemirror_mode": {
    "name": "ipython",
    "version": 3
   },
   "file_extension": ".py",
   "mimetype": "text/x-python",
   "name": "python",
   "nbconvert_exporter": "python",
   "pygments_lexer": "ipython3",
   "version": "3.9.7"
  }
 },
 "nbformat": 4,
 "nbformat_minor": 5
}
